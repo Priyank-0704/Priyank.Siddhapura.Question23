{
 "cells": [
  {
   "cell_type": "markdown",
   "id": "2e653e4d",
   "metadata": {},
   "source": [
    "# Question 23"
   ]
  },
  {
   "cell_type": "code",
   "execution_count": 8,
   "id": "394e66e6",
   "metadata": {},
   "outputs": [],
   "source": [
    "def tough(indentation, pattern_length):\n",
    "    # creating base \n",
    "    if pattern_length <= 2:\n",
    "        return  \n",
    "    spaces = ' ' * indentation\n",
    "    stars = '*' * pattern_length\n",
    "    print(spaces,stars)\n",
    "    # recalling function\n",
    "    tough(indentation + 1, pattern_length - 2)  \n",
    "    print(spaces,stars)\n"
   ]
  },
  {
   "cell_type": "code",
   "execution_count": 9,
   "id": "ae10c713",
   "metadata": {},
   "outputs": [
    {
     "name": "stdout",
     "output_type": "stream",
     "text": [
      " **\n",
      " **\n",
      " ****\n",
      "  **\n",
      "  **\n",
      " ****\n"
     ]
    }
   ],
   "source": [
    "tough(0,0)\n",
    "tough(0,1)\n",
    "tough(0,2)\n",
    "tough(0,4)"
   ]
  },
  {
   "cell_type": "code",
   "execution_count": null,
   "id": "9441c2a1",
   "metadata": {},
   "outputs": [],
   "source": []
  }
 ],
 "metadata": {
  "kernelspec": {
   "display_name": "Python 3 (ipykernel)",
   "language": "python",
   "name": "python3"
  },
  "language_info": {
   "codemirror_mode": {
    "name": "ipython",
    "version": 3
   },
   "file_extension": ".py",
   "mimetype": "text/x-python",
   "name": "python",
   "nbconvert_exporter": "python",
   "pygments_lexer": "ipython3",
   "version": "3.11.4"
  }
 },
 "nbformat": 4,
 "nbformat_minor": 5
}
